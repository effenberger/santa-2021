{
 "cells": [
  {
   "cell_type": "code",
   "execution_count": 1,
   "id": "2e93cef9",
   "metadata": {},
   "outputs": [],
   "source": [
    "import itertools\n",
    "\n",
    "import numpy as np\n",
    "import pandas as pd\n",
    "import torch\n",
    "import torch.nn.functional as F"
   ]
  },
  {
   "cell_type": "code",
   "execution_count": 2,
   "id": "23d68241",
   "metadata": {},
   "outputs": [],
   "source": [
    "perms = list(map(lambda p: \"\".join(p), itertools.permutations(\"1234567\")))\n",
    "perm2id = {p: i for i, p in enumerate(perms)}"
   ]
  },
  {
   "cell_type": "code",
   "execution_count": 3,
   "id": "9ca53799",
   "metadata": {},
   "outputs": [
    {
     "data": {
      "text/plain": [
       "(5040, 7)"
      ]
     },
     "execution_count": 3,
     "metadata": {},
     "output_type": "execute_result"
    }
   ],
   "source": [
    "perms_arr = np.array([list(map(int, p)) for p in perms])\n",
    "perms_arr.shape"
   ]
  },
  {
   "cell_type": "code",
   "execution_count": 4,
   "id": "7b56e630",
   "metadata": {},
   "outputs": [
    {
     "name": "stdout",
     "output_type": "stream",
     "text": [
      "onehot 1234567:\n",
      "[[1. 0. 0. 0. 0. 0. 0.]\n",
      " [0. 1. 0. 0. 0. 0. 0.]\n",
      " [0. 0. 1. 0. 0. 0. 0.]\n",
      " [0. 0. 0. 1. 0. 0. 0.]\n",
      " [0. 0. 0. 0. 1. 0. 0.]\n",
      " [0. 0. 0. 0. 0. 1. 0.]\n",
      " [0. 0. 0. 0. 0. 0. 1.]]\n",
      "onehot 5671234:\n",
      "[[0. 0. 0. 1. 0. 0. 0.]\n",
      " [0. 0. 0. 0. 1. 0. 0.]\n",
      " [0. 0. 0. 0. 0. 1. 0.]\n",
      " [0. 0. 0. 0. 0. 0. 1.]\n",
      " [1. 0. 0. 0. 0. 0. 0.]\n",
      " [0. 1. 0. 0. 0. 0. 0.]\n",
      " [0. 0. 1. 0. 0. 0. 0.]]\n",
      "correlate between 1234567 and 5671234\n",
      "[0. 0. 0. 0. 4. 0. 0. 0. 0. 0. 0. 3. 0. 0. 0.]\n",
      "cost of 1234567 -> 5671234: 4\n",
      "cost of 5671234 -> 1234567: 3\n"
     ]
    }
   ],
   "source": [
    "perms_onehot = np.eye(7)[perms_arr-1, :].transpose(0, 2, 1)\n",
    "assert np.allclose(perms_onehot[:,0,:].astype(np.int64), (perms_arr == 1).astype(np.int64))\n",
    "\n",
    "print(\"onehot 1234567:\")\n",
    "print(perms_onehot[perm2id[\"1234567\"]])\n",
    "\n",
    "print(\"onehot 5671234:\")\n",
    "print(perms_onehot[perm2id[\"5671234\"]])\n",
    "\n",
    "print(\"correlate between 1234567 and 5671234\")\n",
    "left = perms_onehot[perm2id[\"1234567\"]]\n",
    "right = perms_onehot[perm2id[\"5671234\"]]\n",
    "matches = F.conv2d(\n",
    "    F.pad(torch.Tensor(left[None, None, :, :]), (7, 7)),\n",
    "    torch.Tensor(right[None, None, :, :]),\n",
    "    padding=\"valid\"\n",
    ").numpy().reshape(-1)\n",
    "print(matches)\n",
    "must_match_left2right = np.array([-1, -1, -1, -1, -1, -1, -1, 7, 6, 5, 4, 3, 2, 1, 0])\n",
    "must_match_right2left = np.array([0, 1, 2, 3, 4, 5, 6, 7, -1, -1, -1, -1, -1, -1, -1])\n",
    "cost_ifmatch = np.array([7, 6, 5, 4, 3, 2, 1, 0, 1, 2, 3, 4, 5, 6, 7])\n",
    "print(\"cost of 1234567 -> 5671234:\", min(cost_ifmatch[np.equal(must_match_left2right, matches)]))\n",
    "print(\"cost of 5671234 -> 1234567:\", min(cost_ifmatch[np.equal(must_match_right2left, matches)]))"
   ]
  },
  {
   "cell_type": "code",
   "execution_count": 5,
   "id": "3ddd4f2f",
   "metadata": {},
   "outputs": [
    {
     "data": {
      "text/plain": [
       "(5040, 5040, 15)"
      ]
     },
     "execution_count": 5,
     "metadata": {},
     "output_type": "execute_result"
    }
   ],
   "source": [
    "M = F.conv2d(\n",
    "    F.pad(torch.Tensor(perms_onehot[:, None, :, :]), (7, 7)),\n",
    "    torch.Tensor(perms_onehot[:, None, :, :]),\n",
    "    padding=\"valid\"\n",
    ").squeeze().numpy()\n",
    "\n",
    "M.shape"
   ]
  },
  {
   "cell_type": "code",
   "execution_count": 6,
   "id": "25ba93c2",
   "metadata": {},
   "outputs": [],
   "source": [
    "must_match_left2right = np.array([-1, -1, -1, -1, -1, -1, -1, 7, 6, 5, 4, 3, 2, 1, 0])\n",
    "must_match_left2right_wild = np.array([-1, -1, -1, -1, -1, -1, -1, 6, 5, 4, 3, 2, 1, 0, 0])\n",
    "\n",
    "cost_ifmatch = np.array([7, 6, 5, 4, 3, 2, 1, 0, 1, 2, 3, 4, 5, 6, 7])\n",
    "\n",
    "costMat = np.where(M == must_match_left2right, cost_ifmatch, np.inf).min(axis=-1).astype(np.int8)\n",
    "costMatWild = np.minimum(costMat, np.where(M == must_match_left2right_wild, cost_ifmatch, np.inf).min(axis=-1)).astype(np.int8)\n"
   ]
  },
  {
   "cell_type": "code",
   "execution_count": 7,
   "id": "7e8c7fea",
   "metadata": {},
   "outputs": [],
   "source": [
    "symbols = \"🎅🤶🦌🧝🎄🎁🎀\"\n",
    "schedule = pd.read_csv(\"submission_tsp_6_perm_rebalance_no_wildcards_2218_2079_1947.csv\").schedule.tolist()\n",
    "words = [s.translate(str.maketrans(symbols, \"1234567\")) for s in schedule]"
   ]
  },
  {
   "cell_type": "code",
   "execution_count": 8,
   "id": "4b88d316",
   "metadata": {},
   "outputs": [
    {
     "data": {
      "text/plain": [
       "{127877: 49,\n",
       " 129334: 50,\n",
       " 129420: 51,\n",
       " 129501: 52,\n",
       " 127876: 53,\n",
       " 127873: 54,\n",
       " 127872: 55}"
      ]
     },
     "execution_count": 8,
     "metadata": {},
     "output_type": "execute_result"
    }
   ],
   "source": [
    "str.maketrans(symbols, \"1234567\")"
   ]
  },
  {
   "cell_type": "code",
   "execution_count": 9,
   "id": "d2f9e789",
   "metadata": {},
   "outputs": [
    {
     "data": {
      "text/plain": [
       "[2218, 2079, 1947]"
      ]
     },
     "execution_count": 9,
     "metadata": {},
     "output_type": "execute_result"
    }
   ],
   "source": [
    "list(map(len, words))"
   ]
  },
  {
   "cell_type": "code",
   "execution_count": null,
   "id": "705a6ca2",
   "metadata": {},
   "outputs": [],
   "source": []
  },
  {
   "cell_type": "code",
   "execution_count": 10,
   "id": "9980b979",
   "metadata": {},
   "outputs": [
    {
     "name": "stdout",
     "output_type": "stream",
     "text": [
      "2217 [2218 2217 2217 2217 2217 2217 2217 2217 2217 2217]\n",
      "2077 [2079 2077 2077 2077 2077 2077 2077 2077 2077 2077]\n",
      "1947 [1947 1947 1947 1947 1947 1947 1947 1947 1947 1947]\n"
     ]
    }
   ],
   "source": [
    "nodes_list = []\n",
    "table_list = []\n",
    "for i in range(3):\n",
    "    word = words[i]\n",
    "    nodes = []\n",
    "    for i in range(len(word)-6):\n",
    "        p = word[i:i+7]\n",
    "        if p in perm2id:\n",
    "            nodes.append(perm2id[p])\n",
    "    table = np.zeros((len(nodes), 10), np.int64)\n",
    "    table[0, :] = 7\n",
    "    for i in range(1, len(nodes)):\n",
    "        e = costMat[nodes[i-1], nodes[i]]\n",
    "        ew = costMatWild[nodes[i-1], nodes[i]]\n",
    "        table[i,0] = table[i-1,0] + e\n",
    "        table[i,1] = min(table[i-1,1] + e, table[i-1,0] + ew)\n",
    "        table[i,2] = min(table[i-1,2], table[i-1,1]) + e # TODO: better transition\n",
    "        table[i,3] = min(table[i-1,3], table[i-1,2]) + e\n",
    "        table[i,4] = min(table[i-1,4], table[i-1,3]) + e\n",
    "        table[i,5] = min(table[i-1,5], table[i-1,4]) + e\n",
    "        table[i,6] = min(table[i-1,6], table[i-1,5]) + e\n",
    "        table[i,7] = min(table[i-1,7], table[i-1,6]) + e\n",
    "        table[i,8] = min(table[i-1,8], table[i-1,7]) + e\n",
    "        table[i,9] = min(table[i-1,9] + e, table[i-1,8] + ew)\n",
    "    print(table[-1].min(), table[-1])\n",
    "    nodes_list.append(nodes)\n",
    "    table_list.append(table)\n",
    "    \n",
    "# backtrack\n",
    "new_words = []\n",
    "wilds = []\n",
    "for nodes, table in zip(nodes_list, table_list):\n",
    "    ns = [perms[nodes[-1]]]\n",
    "    track = np.argmin(table[-1])\n",
    "    wild = []\n",
    "    for i in range(len(nodes)-2, -1, -1):\n",
    "        e = costMat[nodes[i], nodes[i+1]]\n",
    "        ew = costMatWild[nodes[i], nodes[i+1]]\n",
    "        if track == 0:\n",
    "            ns.append(perms[nodes[i]][:e])\n",
    "        elif track == 1:\n",
    "            if table[i, 1] + e < table[i, 0] + ew:\n",
    "                ns.append(perms[nodes[i]][:e])\n",
    "            else:\n",
    "                left = np.array(list(map(int, perms[nodes[i]][ew:])))\n",
    "                right = np.array(list(map(int, perms[nodes[i+1]][:-ew])))\n",
    "                mis = np.where(left != right)[0][0]\n",
    "                wild.append(table[i, track-1]-7+ew+mis)\n",
    "                ns.append(perms[nodes[i]][:ew])\n",
    "                track = track - 1\n",
    "        elif 2 <= track <= 8:\n",
    "            if table[i, track] >= table[i, track-1]:\n",
    "                track = track - 1\n",
    "            ns.append(perms[nodes[i]][:e])\n",
    "        elif track == 9:\n",
    "            if table[i, 9] + e < table[i, 8] + ew:\n",
    "                ns.append(perms[nodes[i]][:e])\n",
    "            else:\n",
    "                ns.append(perms[nodes[i]][:ew])\n",
    "                left = np.array(list(map(int, perms[nodes[i]][ew:])))\n",
    "                right = np.array(list(map(int, perms[nodes[i+1]][:-ew])))\n",
    "                mis = np.where(left != right)[0][0]\n",
    "                wild.append(table[i, track-1]-7+ew+mis)\n",
    "                track = track - 1\n",
    "        else:\n",
    "            assert False\n",
    "    assert track == 0\n",
    "    wilds.append(wild)\n",
    "    nsw = list(\"\".join(ns[::-1]))\n",
    "    for w in wild:\n",
    "        nsw[w] = \"*\"\n",
    "    new_words.append(\"\".join(nsw))"
   ]
  },
  {
   "cell_type": "code",
   "execution_count": 11,
   "id": "1d9d2a12",
   "metadata": {},
   "outputs": [
    {
     "name": "stdout",
     "output_type": "stream",
     "text": [
      "score:  2218 -> 2217\n"
     ]
    }
   ],
   "source": [
    "print(\"score: \", max(map(len, words)), \"->\", max(map(len, new_words)))"
   ]
  },
  {
   "cell_type": "code",
   "execution_count": 12,
   "id": "7efd20c5",
   "metadata": {},
   "outputs": [],
   "source": [
    "submission = pd.Series([a.translate(str.maketrans(\"1234567*\", symbols+\"🌟\")) for a in new_words], name='schedule')\n",
    "submission.to_csv('submission_tsp_6_perm_rebalance_2478_2478_2474_opt.csv', index=False)"
   ]
  },
  {
   "cell_type": "code",
   "execution_count": null,
   "id": "13245791",
   "metadata": {},
   "outputs": [],
   "source": []
  }
 ],
 "metadata": {
  "kernelspec": {
   "display_name": "Python 3",
   "language": "python",
   "name": "python3"
  },
  "language_info": {
   "codemirror_mode": {
    "name": "ipython",
    "version": 3
   },
   "file_extension": ".py",
   "mimetype": "text/x-python",
   "name": "python",
   "nbconvert_exporter": "python",
   "pygments_lexer": "ipython3",
   "version": "3.8.8"
  }
 },
 "nbformat": 4,
 "nbformat_minor": 5
}
